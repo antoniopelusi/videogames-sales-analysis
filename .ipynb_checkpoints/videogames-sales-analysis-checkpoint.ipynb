{
 "cells": [
  {
   "cell_type": "markdown",
   "id": "0094acc7",
   "metadata": {},
   "source": [
    "# Attività Data Analytics: \n",
    "##### Nome: Antonio Pelusi\n",
    "##### Matricola: 182267\n",
    "##### Email: 257241@studenti.unimore.it "
   ]
  },
  {
   "cell_type": "markdown",
   "id": "dc917044",
   "metadata": {},
   "source": []
  },
  {
   "cell_type": "code",
   "execution_count": null,
   "id": "28d5e10c",
   "metadata": {},
   "outputs": [],
   "source": []
  }
 ],
 "metadata": {
  "kernelspec": {
   "display_name": "Python 3 (ipykernel)",
   "language": "python",
   "name": "python3"
  },
  "language_info": {
   "codemirror_mode": {
    "name": "ipython",
    "version": 3
   },
   "file_extension": ".py",
   "mimetype": "text/x-python",
   "name": "python",
   "nbconvert_exporter": "python",
   "pygments_lexer": "ipython3",
   "version": "3.10.7"
  }
 },
 "nbformat": 4,
 "nbformat_minor": 5
}
