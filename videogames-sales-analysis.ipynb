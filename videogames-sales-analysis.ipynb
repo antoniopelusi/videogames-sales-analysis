{
 "cells": [
  {
   "cell_type": "markdown",
   "id": "4b0250e7",
   "metadata": {},
   "source": [
    "<center>\n",
    "<h1>Analisi delle vendite dei videogiochi nel mondo</h1>\n",
    "<p>Antonio Pelusi</p>\n",
    "<p>Matricola: 182267</p>\n",
    "<p>257241@studenti.unimore.it</p>\n",
    "</center>"
   ]
  },
  {
   "cell_type": "markdown",
   "id": "c44bce81",
   "metadata": {},
   "source": [
    "## Indice\n",
    "0. **Introduzione**\n",
    "\n",
    "1. **Collezione dei dati**\n",
    "\n",
    "    - Dataset vendite videogiochi\n",
    "\n",
    "    - Dataset vendite console\n",
    "\n",
    "2. **Elaborazione dei dati**\n",
    "\n",
    "    - Pulizia del dataset\n",
    "\n",
    "    - Calcolo delle vendite globali\n",
    "\n",
    "3. **Analisi esplorativa**\n",
    "    \n",
    "    - analisi_1\n",
    "    \n",
    "    - analisi_2\n",
    "\n",
    "4. **Testing**\n",
    "    - Calcolo della correlazione\n",
    "\n",
    "    - d\n",
    "    \n",
    "5. **Risultati e conclusioni**"
   ]
  },
  {
   "cell_type": "markdown",
   "id": "fcb82e46",
   "metadata": {},
   "source": [
    "---"
   ]
  },
  {
   "cell_type": "markdown",
   "id": "b232cf93",
   "metadata": {},
   "source": [
    "## **Introduzione**\n",
    "Nel lontano 1962, un gruppo di studenti del *Massachussetts Institute of Technology* sviluppò un gioco chiamato *Spacewar!* sul computer DEC PDP-1.\n",
    "\n",
    "Il gioco fu presto incluso in tutti i nuovi computer DEC, diventando così il primo videogioco della storia largamente distribuito.\n",
    "\n",
    "Da allora, il settore videoludico ha subito un processo di crescita costante, che va di pari passo con il progresso tecnologico dei computer stessi.\n",
    "\n",
    "Il presente studio vuole raccogliere ed analizzare informazioni sulla crescita dei videogiochi dagli anni 80' (decennio della nascita delle prime console videoludiche) ad oggi in base alle copie vendute (sia continentali che globali), per poi confrontarle con la vendita di console, mettendone in risalto l'eventuale livello di correlazione."
   ]
  },
  {
   "cell_type": "markdown",
   "id": "ed14a4c5",
   "metadata": {},
   "source": [
    "---"
   ]
  },
  {
   "cell_type": "markdown",
   "id": "eeab28ab",
   "metadata": {},
   "source": [
    "## **1: Collezione dei dati**\n",
    "Questa prima fase prevede la raccolta dei dati necessari all'analisi prevista.\n",
    "\n",
    "Per lo studio appena introdotto, sarà necessario avere due datasets:\n",
    "- Dataset contenente le informazioni sulle vendite dei videogiochi\n",
    "- Dataset contenente le informazioni sulle vendite delle console"
   ]
  },
  {
   "cell_type": "markdown",
   "id": "248eb8ef",
   "metadata": {},
   "source": [
    "### Dataset vendite videogiochi\n",
    "Per un'analisi corretta sarà necessario avere un dataset aggiornato.\n",
    "Uno dei database di riferimento nel campo videoludico è [vgChartz.com](https://www.vgchartz.com/gamedb/).\n",
    "Questo database viene costantemente aggiornato, ma non prevede il download del dataset.\n",
    "Pertanto sarà necessario effettuare lo *scraping* della pagina web al fine di ottenere un dataset in un formato analizzabile (CSV, JSON ecc...).\n",
    "\n",
    "Lo script utilizzato per lo *scraping* del database online [vgChartz.com](https://www.vgchartz.com/gamedb/) è stato sviluppato in Python sulla base dello script [vgChartScrape](https://github.com/GregorUT/vgchartzScrape) utilizzando la libreria Python [Beautiful Soup](https://www.crummy.com/software/BeautifulSoup/).\n",
    "\n",
    "Essendo l'operazione di *scraping* dell'intero database molto dispendiosa a livello di tempo (~1 secondo per videogioco, per un totale di 16598 videogiochi, ~5 ore!), verrà fornito insieme al seguente notebook il dump del database in formato CSV, chiamato **vgsales.csv**, generato dallo script Python **vgchartz-scraper.py** appositamente sviluppato.\n",
    "\n",
    "Il dataset ottenuto presenta la seguente struttura:\n",
    "\n",
    "|Campi| Definizione|\n",
    "|:-|:-|\n",
    "|Rank|Valore unico, indica la posizione del videogioco nella classifica globale per vendite|\n",
    "|Name|Nome del videogioco|\n",
    "|Platform|Codice identificativo della console per cui è stato sviluppato il gioco|\n",
    "|Year|Anno di rilascio del videogioco|\n",
    "|Genre|Genere del videogioco|\n",
    "|Publisher|Nome dell'editore del videogioco|\n",
    "|NA_Sales|Vendite (in milioni) del videogioco in Nord America|\n",
    "|EU_Sales|Vendite (in milioni) del videogioco in Europa|\n",
    "|JP_Sales|Vendite (in milioni) del videogioco in Giappone|\n",
    "|Other_Sales|Vendite (in milioni) del videogioco nel resto del mondo|\n",
    "|Global_Sales|Vendite totali (in milioni) del videogoco|"
   ]
  },
  {
   "cell_type": "markdown",
   "id": "81903ef6",
   "metadata": {},
   "source": [
    "### Dataset vendite console\n",
    "Il secondo dataset contiene informazioni sulla vendita delle console nel mondo.\n",
    "È scaricare e consultabile al seguente link: [Kaggle.com](https://www.kaggle.com/datasets/jaimepazlopes/game-console-manufactor-and-sales).\n",
    "\n",
    "Questo dataset è stato ottenuto effettuando lo *scraping* della seguente pagina [Wikipedia](https://en.wikipedia.org/wiki/List_of_best-selling_game_consoles).\n",
    "\n",
    "Il dataset originale presenta la seguente struttura:\n",
    "\n",
    "|Campi| Definizione|\n",
    "|:-|:-|\n",
    "|ConsoleID|Codice identificativo della console|\n",
    "|Console_Name|Nome della console|\n",
    "|Manufacturer|Produttore della console|\n",
    "|Release_Year|Anno di rilascio della console|\n",
    "|Sales|Vendite totali (in milioni) della console|\n",
    "|Type|Tipo di console (Home/Handled)|"
   ]
  },
  {
   "cell_type": "markdown",
   "id": "f81174af",
   "metadata": {},
   "source": [
    "---"
   ]
  },
  {
   "cell_type": "markdown",
   "id": "82fc895d",
   "metadata": {},
   "source": [
    "## **2: Elaborazione dei dati**\n",
    "In questa fase verranno puliti e riorganizzati i dati."
   ]
  },
  {
   "cell_type": "markdown",
   "id": "5477a898",
   "metadata": {},
   "source": [
    "Importazione librerie"
   ]
  },
  {
   "cell_type": "code",
   "execution_count": 4,
   "id": "96a5ef00",
   "metadata": {},
   "outputs": [],
   "source": [
    "import pandas as pd"
   ]
  },
  {
   "cell_type": "markdown",
   "id": "5e1944be",
   "metadata": {},
   "source": [
    "Importazione datasets:"
   ]
  },
  {
   "cell_type": "code",
   "execution_count": 45,
   "id": "e274cf5c",
   "metadata": {},
   "outputs": [
    {
     "data": {
      "text/html": [
       "<div>\n",
       "<style scoped>\n",
       "    .dataframe tbody tr th:only-of-type {\n",
       "        vertical-align: middle;\n",
       "    }\n",
       "\n",
       "    .dataframe tbody tr th {\n",
       "        vertical-align: top;\n",
       "    }\n",
       "\n",
       "    .dataframe thead th {\n",
       "        text-align: right;\n",
       "    }\n",
       "</style>\n",
       "<table border=\"1\" class=\"dataframe\">\n",
       "  <thead>\n",
       "    <tr style=\"text-align: right;\">\n",
       "      <th></th>\n",
       "      <th>Rank</th>\n",
       "      <th>Name</th>\n",
       "      <th>Platform</th>\n",
       "      <th>Year</th>\n",
       "      <th>Genre</th>\n",
       "      <th>Publisher</th>\n",
       "      <th>NA_Sales</th>\n",
       "      <th>EU_Sales</th>\n",
       "      <th>JP_Sales</th>\n",
       "      <th>Other_Sales</th>\n",
       "      <th>Global_Sales</th>\n",
       "    </tr>\n",
       "  </thead>\n",
       "  <tbody>\n",
       "    <tr>\n",
       "      <th>0</th>\n",
       "      <td>1</td>\n",
       "      <td>Wii Sports</td>\n",
       "      <td>Wii</td>\n",
       "      <td>2006.0</td>\n",
       "      <td>Sports</td>\n",
       "      <td>Nintendo</td>\n",
       "      <td>41.49</td>\n",
       "      <td>29.02</td>\n",
       "      <td>3.77</td>\n",
       "      <td>8.46</td>\n",
       "      <td>82.74</td>\n",
       "    </tr>\n",
       "    <tr>\n",
       "      <th>1</th>\n",
       "      <td>2</td>\n",
       "      <td>Super Mario Bros.</td>\n",
       "      <td>NES</td>\n",
       "      <td>1985.0</td>\n",
       "      <td>Platform</td>\n",
       "      <td>Nintendo</td>\n",
       "      <td>29.08</td>\n",
       "      <td>3.58</td>\n",
       "      <td>6.81</td>\n",
       "      <td>0.77</td>\n",
       "      <td>40.24</td>\n",
       "    </tr>\n",
       "    <tr>\n",
       "      <th>2</th>\n",
       "      <td>3</td>\n",
       "      <td>Mario Kart Wii</td>\n",
       "      <td>Wii</td>\n",
       "      <td>2008.0</td>\n",
       "      <td>Racing</td>\n",
       "      <td>Nintendo</td>\n",
       "      <td>15.85</td>\n",
       "      <td>12.88</td>\n",
       "      <td>3.79</td>\n",
       "      <td>3.31</td>\n",
       "      <td>35.82</td>\n",
       "    </tr>\n",
       "    <tr>\n",
       "      <th>3</th>\n",
       "      <td>4</td>\n",
       "      <td>Wii Sports Resort</td>\n",
       "      <td>Wii</td>\n",
       "      <td>2009.0</td>\n",
       "      <td>Sports</td>\n",
       "      <td>Nintendo</td>\n",
       "      <td>15.75</td>\n",
       "      <td>11.01</td>\n",
       "      <td>3.28</td>\n",
       "      <td>2.96</td>\n",
       "      <td>33.00</td>\n",
       "    </tr>\n",
       "    <tr>\n",
       "      <th>4</th>\n",
       "      <td>5</td>\n",
       "      <td>Pokemon Red/Pokemon Blue</td>\n",
       "      <td>GB</td>\n",
       "      <td>1996.0</td>\n",
       "      <td>Role-Playing</td>\n",
       "      <td>Nintendo</td>\n",
       "      <td>11.27</td>\n",
       "      <td>8.89</td>\n",
       "      <td>10.22</td>\n",
       "      <td>1.00</td>\n",
       "      <td>31.37</td>\n",
       "    </tr>\n",
       "  </tbody>\n",
       "</table>\n",
       "</div>"
      ],
      "text/plain": [
       "   Rank                      Name Platform    Year         Genre Publisher  \\\n",
       "0     1                Wii Sports      Wii  2006.0        Sports  Nintendo   \n",
       "1     2         Super Mario Bros.      NES  1985.0      Platform  Nintendo   \n",
       "2     3            Mario Kart Wii      Wii  2008.0        Racing  Nintendo   \n",
       "3     4         Wii Sports Resort      Wii  2009.0        Sports  Nintendo   \n",
       "4     5  Pokemon Red/Pokemon Blue       GB  1996.0  Role-Playing  Nintendo   \n",
       "\n",
       "   NA_Sales  EU_Sales  JP_Sales  Other_Sales  Global_Sales  \n",
       "0     41.49     29.02      3.77         8.46         82.74  \n",
       "1     29.08      3.58      6.81         0.77         40.24  \n",
       "2     15.85     12.88      3.79         3.31         35.82  \n",
       "3     15.75     11.01      3.28         2.96         33.00  \n",
       "4     11.27      8.89     10.22         1.00         31.37  "
      ]
     },
     "execution_count": 45,
     "metadata": {},
     "output_type": "execute_result"
    }
   ],
   "source": [
    "videogames = pd.read_csv(\"vgsales.csv\")\n",
    "videogames.head()"
   ]
  },
  {
   "cell_type": "code",
   "execution_count": 46,
   "id": "b9688a31",
   "metadata": {},
   "outputs": [
    {
     "data": {
      "text/html": [
       "<div>\n",
       "<style scoped>\n",
       "    .dataframe tbody tr th:only-of-type {\n",
       "        vertical-align: middle;\n",
       "    }\n",
       "\n",
       "    .dataframe tbody tr th {\n",
       "        vertical-align: top;\n",
       "    }\n",
       "\n",
       "    .dataframe thead th {\n",
       "        text-align: right;\n",
       "    }\n",
       "</style>\n",
       "<table border=\"1\" class=\"dataframe\">\n",
       "  <thead>\n",
       "    <tr style=\"text-align: right;\">\n",
       "      <th></th>\n",
       "      <th>ConsoleID</th>\n",
       "      <th>Console_Name</th>\n",
       "      <th>Manufacturer</th>\n",
       "      <th>Release_Year</th>\n",
       "      <th>Sales</th>\n",
       "      <th>Type</th>\n",
       "    </tr>\n",
       "  </thead>\n",
       "  <tbody>\n",
       "    <tr>\n",
       "      <th>0</th>\n",
       "      <td>PC</td>\n",
       "      <td>Personal Computer</td>\n",
       "      <td>Computer</td>\n",
       "      <td>1975</td>\n",
       "      <td>1000.00</td>\n",
       "      <td>Home</td>\n",
       "    </tr>\n",
       "    <tr>\n",
       "      <th>1</th>\n",
       "      <td>PS2</td>\n",
       "      <td>PlayStation 2</td>\n",
       "      <td>Sony</td>\n",
       "      <td>2000</td>\n",
       "      <td>155.00</td>\n",
       "      <td>Home</td>\n",
       "    </tr>\n",
       "    <tr>\n",
       "      <th>2</th>\n",
       "      <td>DS</td>\n",
       "      <td>Nintendo DS</td>\n",
       "      <td>Nintendo</td>\n",
       "      <td>2004</td>\n",
       "      <td>154.02</td>\n",
       "      <td>Handheld</td>\n",
       "    </tr>\n",
       "    <tr>\n",
       "      <th>3</th>\n",
       "      <td>GB</td>\n",
       "      <td>Game Boy</td>\n",
       "      <td>Nintendo</td>\n",
       "      <td>1989</td>\n",
       "      <td>118.69</td>\n",
       "      <td>Handheld</td>\n",
       "    </tr>\n",
       "    <tr>\n",
       "      <th>4</th>\n",
       "      <td>PS4</td>\n",
       "      <td>PlayStation 4</td>\n",
       "      <td>Sony</td>\n",
       "      <td>2013</td>\n",
       "      <td>108.90</td>\n",
       "      <td>Home</td>\n",
       "    </tr>\n",
       "  </tbody>\n",
       "</table>\n",
       "</div>"
      ],
      "text/plain": [
       "  ConsoleID       Console_Name Manufacturer  Release_Year    Sales      Type\n",
       "0        PC  Personal Computer     Computer          1975  1000.00      Home\n",
       "1       PS2      PlayStation 2         Sony          2000   155.00      Home\n",
       "2        DS        Nintendo DS     Nintendo          2004   154.02  Handheld\n",
       "3        GB           Game Boy     Nintendo          1989   118.69  Handheld\n",
       "4       PS4      PlayStation 4         Sony          2013   108.90      Home"
      ]
     },
     "execution_count": 46,
     "metadata": {},
     "output_type": "execute_result"
    }
   ],
   "source": [
    "consoles = pd.read_csv(\"console.csv\")\n",
    "consoles.head()"
   ]
  },
  {
   "cell_type": "markdown",
   "id": "2c569086",
   "metadata": {},
   "source": [
    "### Pulizia records incompleti\n"
   ]
  },
  {
   "cell_type": "markdown",
   "id": "23ca783b",
   "metadata": {},
   "source": [
    "Controllo del numero dei records presenti nei datasets:"
   ]
  },
  {
   "cell_type": "code",
   "execution_count": 42,
   "id": "bf995f50",
   "metadata": {},
   "outputs": [
    {
     "name": "stdout",
     "output_type": "stream",
     "text": [
      "Numero di videogiochi: \t 16598 \n",
      "Numero di console: \t 44\n"
     ]
    }
   ],
   "source": [
    "print(\"Numero di videogiochi: \\t\", videogames.shape[0], \"\\nNumero di console: \\t\", consoles.shape[0])"
   ]
  },
  {
   "cell_type": "markdown",
   "id": "33aba522",
   "metadata": {},
   "source": [
    "Controllo "
   ]
  },
  {
   "cell_type": "code",
   "execution_count": null,
   "id": "0915066a",
   "metadata": {},
   "outputs": [],
   "source": []
  },
  {
   "cell_type": "markdown",
   "id": "6bb385e2",
   "metadata": {},
   "source": [
    "### Calcolo delle vendite globali\n"
   ]
  },
  {
   "cell_type": "markdown",
   "id": "5908f7a2",
   "metadata": {},
   "source": [
    "---"
   ]
  },
  {
   "cell_type": "markdown",
   "id": "ed99036c",
   "metadata": {},
   "source": [
    "## 3: **Analisi esplorativa**\n",
    "In questa fase verranno analizzati singolarmente i datasets al fine di ricavare informazioni attraverso statistiche e grafici."
   ]
  },
  {
   "cell_type": "markdown",
   "id": "0d6e4e09",
   "metadata": {},
   "source": [
    "### Analisi_1\n"
   ]
  },
  {
   "cell_type": "markdown",
   "id": "1e59f43f",
   "metadata": {},
   "source": [
    "---"
   ]
  },
  {
   "cell_type": "markdown",
   "id": "27e31d55",
   "metadata": {},
   "source": [
    "## 4: **Testing**\n"
   ]
  },
  {
   "cell_type": "markdown",
   "id": "3b76a219",
   "metadata": {},
   "source": [
    "### Calcolo della correlazione\n"
   ]
  },
  {
   "cell_type": "markdown",
   "id": "7e35381a",
   "metadata": {},
   "source": [
    "---"
   ]
  },
  {
   "cell_type": "markdown",
   "id": "a4863a30",
   "metadata": {},
   "source": [
    "## 5: **Risultati e conclusioni**\n"
   ]
  }
 ],
 "metadata": {
  "kernelspec": {
   "display_name": "Python 3.10.7 64-bit",
   "language": "python",
   "name": "python3"
  },
  "language_info": {
   "codemirror_mode": {
    "name": "ipython",
    "version": 3
   },
   "file_extension": ".py",
   "mimetype": "text/x-python",
   "name": "python",
   "nbconvert_exporter": "python",
   "pygments_lexer": "ipython3",
   "version": "3.10.7"
  },
  "vscode": {
   "interpreter": {
    "hash": "916dbcbb3f70747c44a77c7bcd40155683ae19c65e1c03b4aa3499c5328201f1"
   }
  }
 },
 "nbformat": 4,
 "nbformat_minor": 5
}
