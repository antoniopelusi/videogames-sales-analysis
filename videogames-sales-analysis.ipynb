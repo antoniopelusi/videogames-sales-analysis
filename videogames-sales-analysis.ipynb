{
 "cells": [
  {
   "cell_type": "markdown",
   "id": "4b0250e7",
   "metadata": {},
   "source": [
    "<center>\n",
    "<h1>Analisi delle vendite dei videogiochi nel mondo</h1>\n",
    "<p>Antonio Pelusi</p>\n",
    "<p>Matricola: 182267</p>\n",
    "<p>257241@studenti.unimore.it</p>\n",
    "</center>"
   ]
  },
  {
   "cell_type": "markdown",
   "id": "c44bce81",
   "metadata": {},
   "source": [
    "## Indice\n",
    "0. Introduzione\n",
    "\n",
    "1. Collezione dei dati\n",
    "\n",
    "    - Dataset vendite videogiochi\n",
    "\n",
    "    - Dataset vendite console\n",
    "\n",
    "2. Elaborazione dei dati\n",
    "\n",
    "    - Pulizia records incompleti\n",
    "\n",
    "    - Calcolo delle vendite globali\n",
    "\n",
    "3. Analisi esplorativa\n",
    "    \n",
    "    - analisi_1\n",
    "    \n",
    "    - analisi_2\n",
    "\n",
    "4. Risultati e conclusioni"
   ]
  },
  {
   "cell_type": "markdown",
   "id": "fcb82e46",
   "metadata": {},
   "source": [
    "---"
   ]
  },
  {
   "cell_type": "markdown",
   "id": "b232cf93",
   "metadata": {},
   "source": [
    "## Introduzione\n",
    "Nel lontano 1962, un gruppo di studenti del *Massachussetts Institute of Technology* sviluppò un gioco chiamato *Spacewar!* sul computer DEC PDP-1.\n",
    "\n",
    "Il gioco fu presto incluso in tutti i nuovi computer DEC, diventando così il primo videogioco della storia largamente distribuito.\n",
    "\n",
    "Da allora, il settore videoludico ha subito un processo di crescita costante, che va di pari passo con il progresso tecnologico dei computer stessi.\n",
    "\n",
    "Il presente studio raccoglie ed analizza informazioni sulla crescita dei videogiochi dagli anni 80' (decennio della nascita delle prime console videoludiche) ad oggi in base alle copie vendute (sia continentali che globali), per poi confrontarle con la vendita di console, mettendone in risalto l'eventuale livello di correlazione."
   ]
  },
  {
   "cell_type": "markdown",
   "id": "ed14a4c5",
   "metadata": {},
   "source": [
    "---"
   ]
  },
  {
   "cell_type": "markdown",
   "id": "eeab28ab",
   "metadata": {},
   "source": [
    "## 1: Collezione dei dati\n",
    "Per lo studio appena introdotto, sarà necessario avere due datasets:\n",
    "- Dataset contenente le informazioni sulle vendite dei videogiochi\n",
    "- Dataset contenente le informazioni sulle vendite delle console"
   ]
  },
  {
   "cell_type": "markdown",
   "id": "248eb8ef",
   "metadata": {},
   "source": [
    "### Dataset vendite videogiochi\n",
    "Per un'analisi corretta sarà necessario avere un dataset aggiornato.\n",
    "Uno dei database di riferimento nel campo videoludico è consultabile sul portale web [vgChartz.com](https://www.vgchartz.com/gamedb/).\n",
    "Questo database viene costantemente aggiornato, ma non prevede il download del dataset.\n",
    "Pertanto sarà necessario effettuare lo *scraping* della pagina web al fine di ottenere un dataset in un formato adeguato all'analisi (CSV, JSON ecc...).\n",
    "\n",
    "Lo script utilizzato per lo *scraping* del sito [vgChartz.com](https://www.vgchartz.com/gamedb/) è stato sviluppato "
   ]
  },
  {
   "cell_type": "markdown",
   "id": "81903ef6",
   "metadata": {},
   "source": [
    "### Dataset vendite console\n"
   ]
  },
  {
   "cell_type": "markdown",
   "id": "f81174af",
   "metadata": {},
   "source": [
    "---"
   ]
  },
  {
   "cell_type": "markdown",
   "id": "82fc895d",
   "metadata": {},
   "source": [
    "## 2: Elaborazione dei dati\n"
   ]
  },
  {
   "cell_type": "markdown",
   "id": "2c569086",
   "metadata": {},
   "source": [
    "### Pulizia records incompleti\n"
   ]
  },
  {
   "cell_type": "markdown",
   "id": "6bb385e2",
   "metadata": {},
   "source": [
    "### Calcolo delle vendite globali\n"
   ]
  },
  {
   "cell_type": "markdown",
   "id": "5908f7a2",
   "metadata": {},
   "source": [
    "---"
   ]
  },
  {
   "cell_type": "markdown",
   "id": "ed99036c",
   "metadata": {},
   "source": [
    "## 3: Analisi esplorativa\n"
   ]
  },
  {
   "cell_type": "markdown",
   "id": "0d6e4e09",
   "metadata": {},
   "source": [
    "### Analisi_1\n"
   ]
  },
  {
   "cell_type": "markdown",
   "id": "1e59f43f",
   "metadata": {},
   "source": [
    "---"
   ]
  },
  {
   "cell_type": "markdown",
   "id": "a4863a30",
   "metadata": {},
   "source": [
    "## 4: Risultati e conclusioni\n"
   ]
  }
 ],
 "metadata": {
  "kernelspec": {
   "display_name": "Python 3.10.7 64-bit",
   "language": "python",
   "name": "python3"
  },
  "language_info": {
   "codemirror_mode": {
    "name": "ipython",
    "version": 3
   },
   "file_extension": ".py",
   "mimetype": "text/x-python",
   "name": "python",
   "nbconvert_exporter": "python",
   "pygments_lexer": "ipython3",
   "version": "3.10.7"
  },
  "vscode": {
   "interpreter": {
    "hash": "916dbcbb3f70747c44a77c7bcd40155683ae19c65e1c03b4aa3499c5328201f1"
   }
  }
 },
 "nbformat": 4,
 "nbformat_minor": 5
}
